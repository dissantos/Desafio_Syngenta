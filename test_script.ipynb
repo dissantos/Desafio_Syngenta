{
 "metadata": {
  "language_info": {
   "codemirror_mode": {
    "name": "ipython",
    "version": 3
   },
   "file_extension": ".py",
   "mimetype": "text/x-python",
   "name": "python",
   "nbconvert_exporter": "python",
   "pygments_lexer": "ipython3",
   "version": "3.7.4"
  },
  "orig_nbformat": 2,
  "kernelspec": {
   "name": "python3",
   "display_name": "Python 3",
   "language": "python"
  }
 },
 "nbformat": 4,
 "nbformat_minor": 2,
 "cells": [
  {
   "cell_type": "code",
   "execution_count": 7,
   "metadata": {},
   "outputs": [],
   "source": [
    "from PIL import Image\n",
    "import numpy as np\n",
    "im = Image.open('Syngenta.bmp')\n"
   ]
  },
  {
   "cell_type": "code",
   "execution_count": 2,
   "metadata": {},
   "outputs": [
    {
     "output_type": "stream",
     "name": "stdout",
     "text": [
      "298\n"
     ]
    }
   ],
   "source": [
    "#Converte imagem para o modo rgb\n",
    "im = im.convert('RGB')\n",
    "#Carrega os pixels dela\n",
    "pixels = im.load()\n",
    "count = 0\n",
    "#Após um teste descobri que o pixel verde, em RGB, será dado por (96,192,0)\n",
    "for i in range(im.size[0]):\n",
    "    for j in range(im.size[1]):\n",
    "        if pixels[i,j] == (96,192,0):\n",
    "            count += 1\n",
    "\n",
    "print(count)"
   ]
  },
  {
   "cell_type": "code",
   "execution_count": 4,
   "metadata": {},
   "outputs": [
    {
     "output_type": "stream",
     "name": "stdout",
     "text": [
      "(420, 300)\n"
     ]
    }
   ],
   "source": [
    "print(im.size)"
   ]
  },
  {
   "cell_type": "code",
   "execution_count": 8,
   "metadata": {},
   "outputs": [],
   "source": [
    "count = 0\n",
    "byte_array = []\n",
    "byte = []\n",
    "for pixel in im.getdata():\n",
    "    byte.append(pixel%2)\n",
    "    count+=1\n",
    "    if count % 8 == 0:\n",
    "        byte_array.append(byte)\n",
    "        byte = []\n",
    "\n",
    "pixel_array = []\n",
    "for byte in byte_array:\n",
    "    out = 0\n",
    "    for bit in byte:\n",
    "        out = (out << 1) | bit\n",
    "    pixel_array.append(out)\n",
    "\n",
    "im = im.convert('P')\n",
    "pixels = im.load()\n",
    "count = 0\n",
    "for i in range(150):\n",
    "    for j in range(105):\n",
    "        pixels[i,j] = pixel_array[count]\n",
    "        count+=1"
   ]
  },
  {
   "cell_type": "code",
   "execution_count": 9,
   "metadata": {},
   "outputs": [],
   "source": [
    "im.show()"
   ]
  },
  {
   "cell_type": "code",
   "execution_count": 3,
   "metadata": {},
   "outputs": [],
   "source": [
    "for i in range(im.size[0]):\n",
    "    for j in range(im.size[1]):\n",
    "        if pixels[i,j] == (0,0,0):\n",
    "            pixels[i,j] = last_pixel\n",
    "        else:\n",
    "            last_pixel = pixels[i,j]\n",
    "im.show()"
   ]
  },
  {
   "cell_type": "code",
   "execution_count": null,
   "metadata": {},
   "outputs": [],
   "source": []
  }
 ]
}