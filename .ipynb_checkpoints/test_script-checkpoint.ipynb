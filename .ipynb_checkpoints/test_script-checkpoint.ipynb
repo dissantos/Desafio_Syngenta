{
 "cells": [
  {
   "cell_type": "code",
   "execution_count": 2,
   "metadata": {},
   "outputs": [
    {
     "name": "stdout",
     "output_type": "stream",
     "text": [
      "Green pixel count:  298\n"
     ]
    }
   ],
   "source": [
    "from PIL import Image\n",
    "import numpy as np\n",
    "im = Image.open('Syngenta.bmp')\n",
    "\n",
    "#Converte imagem para o modo rgb\n",
    "im = im.convert('RGB')\n",
    "#Carrega os pixels dela\n",
    "pixels = im.load()\n",
    "count = 0\n",
    "green_pixel = (96,192,0)\n",
    "#Após um teste descobri que o pixel verde, em RGB, será dado por (96,192,0)\n",
    "for i in range(im.size[0]): #percorre ixel a pixel e conta a quantidade pixel's verdes\n",
    "    for j in range(im.size[1]):\n",
    "        if pixels[i,j] == green_pixel:\n",
    "            count += 1\n",
    "\n",
    "print(\"Green pixel count: \",count)"
   ]
  },
  {
   "cell_type": "code",
   "execution_count": 4,
   "metadata": {},
   "outputs": [
    {
     "name": "stdout",
     "output_type": "stream",
     "text": [
      "(420, 300)\n"
     ]
    }
   ],
   "source": [
    "print(im.size)"
   ]
  },
  {
   "cell_type": "code",
   "execution_count": 8,
   "metadata": {},
   "outputs": [],
   "source": [
    "from PIL import Image\n",
    "import numpy as np\n",
    "im = Image.open('Syngenta.bmp')\n",
    "count = 0\n",
    "byte_array = []\n",
    "byte = []\n",
    "for pixel in im.getdata():\n",
    "    byte.append(pixel%2)\n",
    "    count+=1\n",
    "    if count % 8 == 0:\n",
    "        byte_array.append(byte)\n",
    "        byte = []\n",
    "\n",
    "pixel_array = []\n",
    "for byte in byte_array:\n",
    "    out = 0\n",
    "    for bit in byte:\n",
    "        out = (out << 1) | bit\n",
    "    pixel_array.append(out)\n",
    "\n",
    "im = im.convert('P')\n",
    "pixels = im.load()\n",
    "count = 0\n",
    "for i in range(105):\n",
    "    for j in range(147):\n",
    "        pixels[i,j] = pixel_array[count]\n",
    "        count+=1\n",
    "        if count == 15750:\n",
    "            break\n",
    "    if count == 15750:\n",
    "            break\n",
    "\n",
    "im.show()"
   ]
  },
  {
   "cell_type": "code",
   "execution_count": 12,
   "metadata": {},
   "outputs": [],
   "source": [
    "from PIL import Image\n",
    "import numpy as np\n",
    "im = Image.open('Syngenta.bmp')\n",
    "\n",
    "#Converte imagem para o modo rgb\n",
    "im = im.convert('RGB')\n",
    "#Carrega os pixels dela\n",
    "pixels = im.load()\n",
    "green_pixel = (96,192,0)\n",
    "draw = 0\n",
    "\n",
    "for i in range(im.size[0]): \n",
    "    for j in range(im.size[1]):\n",
    "        if pixels[i,j] == green_pixel:\n",
    "            draw = 1 - draw\n",
    "        if draw == 1:\n",
    "            pixels[i,j] = green_pixel\n",
    "\n",
    "im.show()"
   ]
  },
  {
   "cell_type": "code",
   "execution_count": 3,
   "metadata": {},
   "outputs": [],
   "source": [
    "for i in range(im.size[0]):\n",
    "    for j in range(im.size[1]):\n",
    "        if pixels[i,j] == (0,0,0):\n",
    "            pixels[i,j] = last_pixel\n",
    "        else:\n",
    "            last_pixel = pixels[i,j]\n",
    "im.show()"
   ]
  },
  {
   "cell_type": "code",
   "execution_count": null,
   "metadata": {},
   "outputs": [],
   "source": []
  }
 ],
 "metadata": {
  "kernelspec": {
   "display_name": "Python 3",
   "language": "python",
   "name": "python3"
  }
 },
 "nbformat": 4,
 "nbformat_minor": 2
}
